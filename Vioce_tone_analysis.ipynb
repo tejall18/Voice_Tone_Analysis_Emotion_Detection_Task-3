{
 "cells": [
  {
   "cell_type": "markdown",
   "id": "6b39e11d-ffba-44de-ad4e-dff825a3dd14",
   "metadata": {},
   "source": [
    "## Importing libraries"
   ]
  },
  {
   "cell_type": "code",
   "execution_count": 1,
   "id": "deace101-90ed-4d03-978d-15be80031683",
   "metadata": {},
   "outputs": [
    {
     "name": "stdout",
     "output_type": "stream",
     "text": [
      "Tensorflow version: 2.9.1\n"
     ]
    }
   ],
   "source": [
    "# Importing necessary libraries\n",
    "import os\n",
    "import numpy as np\n",
    "from tensorflow.keras.layers import Dense, Input, Dropout, concatenate\n",
    "from tensorflow.keras.models import Model\n",
    "from tensorflow.keras.optimizers import Adam\n",
    "from tensorflow.keras.callbacks import ModelCheckpoint, ReduceLROnPlateau, EarlyStopping\n",
    "from tensorflow.keras.utils import to_categorical\n",
    "from tensorflow.keras.preprocessing.image import ImageDataGenerator\n",
    "from tensorflow.keras.layers import Conv2D, MaxPooling2D, Flatten\n",
    "import librosa\n",
    "\n",
    "# Importing necessary libraries\n",
    "import glob as glob\n",
    "import cv2\n",
    "import random\n",
    "import os\n",
    "%matplotlib inline\n",
    "\n",
    "import numpy as np\n",
    "import pandas as pd\n",
    "\n",
    "from tensorflow.keras.preprocessing.image import ImageDataGenerator\n",
    "from tensorflow.keras.layers import Dense, Input, Dropout, Flatten, Conv2D\n",
    "from tensorflow.keras.layers import BatchNormalization, Activation, MaxPooling2D, concatenate \n",
    "from tensorflow.keras.models import Model, Sequential\n",
    "from tensorflow.keras.optimizers import Adam\n",
    "from tensorflow.keras.callbacks import ModelCheckpoint, ReduceLROnPlateau\n",
    "from tensorflow.keras.utils import plot_model\n",
    "\n",
    "from sklearn.model_selection import train_test_split\n",
    "from sklearn.preprocessing import LabelEncoder\n",
    "#from sklearn.feature_extraction import texture\n",
    "from sklearn.svm import SVC\n",
    "\n",
    "from matplotlib import pyplot as plt\n",
    "\n",
    "from IPython.display import SVG, Image\n",
    "import tensorflow as tf\n",
    "print(\"Tensorflow version:\", tf.__version__)"
   ]
  },
  {
   "cell_type": "markdown",
   "id": "ac6c7836-6cdb-4e14-804d-7ff65fde416f",
   "metadata": {},
   "source": [
    "## Data Preparation for Voice Tone Analysis Model"
   ]
  },
  {
   "cell_type": "code",
   "execution_count": 2,
   "id": "053ca5e9-e855-40f9-b1f8-76f64114d7cb",
   "metadata": {},
   "outputs": [],
   "source": [
    "# Data Preparation for Voice Tone Analysis Model (TESS Dataset)\n",
    "audio_data_directory = \"TESS/\"\n",
    "emotions = ['angry', 'disgust', 'fear', 'happy', 'neutral', 'sad', 'surprise']\n",
    "\n",
    "audio_features = []\n",
    "audio_labels = []\n",
    "\n",
    "# Loop through each emotion and load corresponding audio files\n",
    "for emotion in emotions:\n",
    "    for audio_file in os.listdir(audio_data_directory):\n",
    "        if emotion in audio_file:\n",
    "            audio_path = os.path.join(audio_data_directory, audio_file)\n",
    "            # Load audio file and extract features using librosa\n",
    "            y, sr = librosa.load(audio_path, sr=None)\n",
    "            mfccs = librosa.feature.mfcc(y=y, sr=sr, n_mfcc=40)\n",
    "            mfccs_mean = np.mean(mfccs.T, axis=0)\n",
    "            audio_features.append(mfccs_mean)\n",
    "            audio_labels.append(emotion)\n"
   ]
  },
  {
   "cell_type": "code",
   "execution_count": 3,
   "id": "e0ef81aa-923f-40f2-9a10-87e498a88c0c",
   "metadata": {},
   "outputs": [],
   "source": [
    "# Convert features and labels to numpy arrays\n",
    "audio_features = np.array(audio_features)\n",
    "audio_labels = np.array(audio_labels)"
   ]
  },
  {
   "cell_type": "code",
   "execution_count": 4,
   "id": "1af6a709-f64b-46a1-9d3f-b9965d342d94",
   "metadata": {},
   "outputs": [],
   "source": [
    "# Encode labels\n",
    "label_encoder = LabelEncoder()\n",
    "audio_labels_encoded = label_encoder.fit_transform(audio_labels)\n",
    "num_classes = len(label_encoder.classes_)"
   ]
  },
  {
   "cell_type": "code",
   "execution_count": 5,
   "id": "2828263b-f3ee-4803-88ea-06960e41e286",
   "metadata": {},
   "outputs": [],
   "source": [
    "# Split the dataset into training and validation sets\n",
    "audio_train, audio_validation, labels_train, labels_validation = train_test_split(\n",
    "    audio_features, audio_labels_encoded, test_size=0.2, random_state=42\n",
    ")"
   ]
  },
  {
   "cell_type": "code",
   "execution_count": 6,
   "id": "f13749c9-25ef-4718-8654-ee728e520adf",
   "metadata": {},
   "outputs": [
    {
     "name": "stdout",
     "output_type": "stream",
     "text": [
      "Training data shape: (1920, 40)\n",
      "Validation data shape: (480, 40)\n",
      "Training labels shape: (1920,)\n",
      "Validation labels shape: (480,)\n"
     ]
    }
   ],
   "source": [
    "# Print shapes for verification\n",
    "print(\"Training data shape:\", audio_train.shape)\n",
    "print(\"Validation data shape:\", audio_validation.shape)\n",
    "print(\"Training labels shape:\", labels_train.shape)\n",
    "print(\"Validation labels shape:\", labels_validation.shape)"
   ]
  },
  {
   "cell_type": "code",
   "execution_count": 7,
   "id": "33402452-f4bc-444e-a50a-1892d8300591",
   "metadata": {},
   "outputs": [
    {
     "name": "stdout",
     "output_type": "stream",
     "text": [
      "Shape of audio_train: (1920, 40)\n"
     ]
    }
   ],
   "source": [
    "print(\"Shape of audio_train:\", audio_train.shape)"
   ]
  },
  {
   "cell_type": "markdown",
   "id": "9eac65e2-70c9-4a88-a8a7-7294a96887aa",
   "metadata": {},
   "source": [
    "## Voice Tone Analysis Model"
   ]
  },
  {
   "cell_type": "code",
   "execution_count": 8,
   "id": "c2933276-90c4-4d7e-b87b-26b038e2f3ae",
   "metadata": {},
   "outputs": [],
   "source": [
    "# Implement and train a separate model for voice tone analysis\n",
    "def audio_model(input_shape_audio):\n",
    "    inputs_audio = Input(input_shape_audio)\n",
    "    # Define the architecture for voice tone analysis model branch\n",
    "    # For example:\n",
    "    x = Dense(128, activation='relu')(inputs_audio)\n",
    "    x = Dropout(0.5)(x)\n",
    "    x = Dense(64, activation='relu')(x)\n",
    "    x = Dropout(0.5)(x)\n",
    "    output_audio_branch = Dense(32, activation='relu')(x)\n",
    "    \n",
    "    return inputs_audio, output_audio_branch"
   ]
  },
  {
   "cell_type": "code",
   "execution_count": 9,
   "id": "9b4aadb1-59a1-49e1-a4b8-a25824651a1a",
   "metadata": {},
   "outputs": [],
   "source": [
    "# Model Architecture for Image-based Emotion Detection with Voice Tone Analysis\n",
    "def combined_model(input_shape_image, input_shape_audio, num_emotions):\n",
    "    # Image branch\n",
    "    inputs_image = Input(input_shape_image)\n",
    "    conv_1 = Conv2D(filters=64, kernel_size=(3, 3), padding=\"same\")(inputs_image)\n",
    "    # Add more convolutional and pooling layers as needed\n",
    "    # Flatten and add dense layers\n",
    "    \n",
    "    # Audio branch\n",
    "    inputs_audio, output_audio_branch = audio_model(input_shape_audio)\n",
    "    \n",
    "    # Combine image and audio branches\n",
    "    combined_features = concatenate([conv_1, output_audio_branch])\n",
    "    \n",
    "    # Dense layers for final prediction\n",
    "    dense_1 = Dense(256)(combined_features)\n",
    "    # Add more dense layers as needed\n",
    "    output = Dense(num_emotions, activation=\"softmax\")(dense_1)\n",
    "    \n",
    "    model = Model(inputs=[inputs_image, inputs_audio], outputs=[output])\n",
    "    \n",
    "    return model"
   ]
  },
  {
   "cell_type": "code",
   "execution_count": 10,
   "id": "d2d74b54-5b69-437e-89ff-92273d321455",
   "metadata": {},
   "outputs": [],
   "source": [
    "from tensorflow.keras.layers import Conv1D, MaxPooling1D, GlobalAveragePooling1D, Dense, Input, Reshape\n",
    "\n",
    "# Define the model architecture\n",
    "input_audio = Input(shape=(audio_train.shape[1],))\n",
    "x = Reshape((audio_train.shape[1], 1))(input_audio)  # Reshape for compatibility with Conv1D\n",
    "x = Conv1D(32, kernel_size=3, activation=\"relu\")(x)\n",
    "x = MaxPooling1D(pool_size=2)(x)\n",
    "x = Conv1D(64, kernel_size=3, activation=\"relu\")(x)\n",
    "x = MaxPooling1D(pool_size=2)(x)\n",
    "x = Conv1D(128, kernel_size=3, activation=\"relu\")(x)\n",
    "x = GlobalAveragePooling1D()(x)\n",
    "x = Dense(128, activation=\"relu\")(x)\n",
    "output_audio = Dense(num_classes, activation=\"softmax\")(x)\n",
    "\n",
    "model = Model(inputs=input_audio, outputs=output_audio)"
   ]
  },
  {
   "cell_type": "markdown",
   "id": "15026636-6bf4-4d4f-b631-e1964c1aabe3",
   "metadata": {},
   "source": [
    "## Initialize and compile the combined model"
   ]
  },
  {
   "cell_type": "code",
   "execution_count": 11,
   "id": "5d2df2bf-ad21-4b91-a35d-92d3d14d6bf2",
   "metadata": {},
   "outputs": [],
   "source": [
    "# Compile the model\n",
    "from tensorflow.keras.losses import categorical_crossentropy\n",
    "from tensorflow.keras.metrics import Accuracy\n",
    "\n",
    "# Compile the model\n",
    "model.compile(\n",
    "    loss=categorical_crossentropy,\n",
    "    optimizer=Adam(),\n",
    "    metrics=[Accuracy()]\n",
    ")"
   ]
  },
  {
   "cell_type": "code",
   "execution_count": 12,
   "id": "af20be76-6323-4625-9b14-fe5ad09d4132",
   "metadata": {},
   "outputs": [
    {
     "name": "stdout",
     "output_type": "stream",
     "text": [
      "Model: \"model\"\n",
      "_________________________________________________________________\n",
      " Layer (type)                Output Shape              Param #   \n",
      "=================================================================\n",
      " input_1 (InputLayer)        [(None, 40)]              0         \n",
      "                                                                 \n",
      " reshape (Reshape)           (None, 40, 1)             0         \n",
      "                                                                 \n",
      " conv1d (Conv1D)             (None, 38, 32)            128       \n",
      "                                                                 \n",
      " max_pooling1d (MaxPooling1D  (None, 19, 32)           0         \n",
      " )                                                               \n",
      "                                                                 \n",
      " conv1d_1 (Conv1D)           (None, 17, 64)            6208      \n",
      "                                                                 \n",
      " max_pooling1d_1 (MaxPooling  (None, 8, 64)            0         \n",
      " 1D)                                                             \n",
      "                                                                 \n",
      " conv1d_2 (Conv1D)           (None, 6, 128)            24704     \n",
      "                                                                 \n",
      " global_average_pooling1d (G  (None, 128)              0         \n",
      " lobalAveragePooling1D)                                          \n",
      "                                                                 \n",
      " dense (Dense)               (None, 128)               16512     \n",
      "                                                                 \n",
      " dense_1 (Dense)             (None, 6)                 774       \n",
      "                                                                 \n",
      "=================================================================\n",
      "Total params: 48,326\n",
      "Trainable params: 48,326\n",
      "Non-trainable params: 0\n",
      "_________________________________________________________________\n"
     ]
    }
   ],
   "source": [
    "# Display the model architecture\n",
    "model.summary()"
   ]
  },
  {
   "cell_type": "markdown",
   "id": "d52771ad-2ba8-4e47-b82b-f9f81e323752",
   "metadata": {},
   "source": [
    "## Training the Combined Model"
   ]
  },
  {
   "cell_type": "code",
   "execution_count": 13,
   "id": "542511e3-004a-488a-bda5-7586eeca744a",
   "metadata": {},
   "outputs": [],
   "source": [
    "epochs = 15\n",
    "#steps_per_epoch = train_generator.n // train_generator.batch_size\n",
    "#validation_steps = validation_generator.n // validation_generator.batch_size\n",
    "\n",
    "checkpoint = ModelCheckpoint(\"model_weightsVTA.h5\", monitor='val_accuracy', save_weights_only=True, mode='max', verbose=1)\n",
    "reduce_lr = ReduceLROnPlateau(monitor='val_loss', factor=0.1, patience=2, min_lr=0.00001)\n",
    "callbacks = [checkpoint, reduce_lr]"
   ]
  },
  {
   "cell_type": "code",
   "execution_count": 14,
   "id": "13f2aa1e-1394-4f70-8e87-84010583cc68",
   "metadata": {},
   "outputs": [
    {
     "name": "stdout",
     "output_type": "stream",
     "text": [
      "Epoch 1/15\n",
      "59/60 [============================>.] - ETA: 0s - loss: 0.9723 - accuracy: 0.0000e+00\n",
      "Epoch 1: saving model to model_weightsVTA.h5\n",
      "60/60 [==============================] - 6s 28ms/step - loss: 0.9620 - accuracy: 0.0000e+00 - val_loss: 0.2902 - val_accuracy: 0.0000e+00 - lr: 0.0010\n",
      "Epoch 2/15\n",
      "57/60 [===========================>..] - ETA: 0s - loss: 0.1859 - accuracy: 0.0000e+00\n",
      "Epoch 2: saving model to model_weightsVTA.h5\n",
      "60/60 [==============================] - 1s 9ms/step - loss: 0.1859 - accuracy: 0.0000e+00 - val_loss: 0.0933 - val_accuracy: 0.0000e+00 - lr: 0.0010\n",
      "Epoch 3/15\n",
      "59/60 [============================>.] - ETA: 0s - loss: 0.0961 - accuracy: 0.0000e+00\n",
      "Epoch 3: saving model to model_weightsVTA.h5\n",
      "60/60 [==============================] - 0s 8ms/step - loss: 0.0948 - accuracy: 0.0000e+00 - val_loss: 0.0675 - val_accuracy: 0.0000e+00 - lr: 0.0010\n",
      "Epoch 4/15\n",
      "55/60 [==========================>...] - ETA: 0s - loss: 0.0429 - accuracy: 0.0000e+00\n",
      "Epoch 4: saving model to model_weightsVTA.h5\n",
      "60/60 [==============================] - 0s 7ms/step - loss: 0.0438 - accuracy: 0.0000e+00 - val_loss: 0.0304 - val_accuracy: 0.0000e+00 - lr: 0.0010\n",
      "Epoch 5/15\n",
      "60/60 [==============================] - ETA: 0s - loss: 0.0323 - accuracy: 8.6806e-05\n",
      "Epoch 5: saving model to model_weightsVTA.h5\n",
      "60/60 [==============================] - 0s 7ms/step - loss: 0.0323 - accuracy: 8.6806e-05 - val_loss: 0.0238 - val_accuracy: 0.0000e+00 - lr: 0.0010\n",
      "Epoch 6/15\n",
      "58/60 [============================>.] - ETA: 0s - loss: 0.0174 - accuracy: 8.9799e-05\n",
      "Epoch 6: saving model to model_weightsVTA.h5\n",
      "60/60 [==============================] - 1s 8ms/step - loss: 0.0170 - accuracy: 8.6806e-05 - val_loss: 0.0158 - val_accuracy: 0.0000e+00 - lr: 0.0010\n",
      "Epoch 7/15\n",
      "60/60 [==============================] - ETA: 0s - loss: 0.0150 - accuracy: 0.0011    \n",
      "Epoch 7: saving model to model_weightsVTA.h5\n",
      "60/60 [==============================] - 0s 7ms/step - loss: 0.0150 - accuracy: 0.0011 - val_loss: 0.0238 - val_accuracy: 0.0000e+00 - lr: 0.0010\n",
      "Epoch 8/15\n",
      "58/60 [============================>.] - ETA: 0s - loss: 0.0211 - accuracy: 0.0011\n",
      "Epoch 8: saving model to model_weightsVTA.h5\n",
      "60/60 [==============================] - 1s 14ms/step - loss: 0.0205 - accuracy: 0.0010 - val_loss: 0.0114 - val_accuracy: 3.4722e-04 - lr: 0.0010\n",
      "Epoch 9/15\n",
      "60/60 [==============================] - ETA: 0s - loss: 0.0192 - accuracy: 0.0010\n",
      "Epoch 9: saving model to model_weightsVTA.h5\n",
      "60/60 [==============================] - 1s 14ms/step - loss: 0.0192 - accuracy: 0.0010 - val_loss: 0.0185 - val_accuracy: 0.0014 - lr: 0.0010\n",
      "Epoch 10/15\n",
      "56/60 [===========================>..] - ETA: 0s - loss: 0.0080 - accuracy: 0.0067\n",
      "Epoch 10: saving model to model_weightsVTA.h5\n",
      "60/60 [==============================] - 0s 7ms/step - loss: 0.0089 - accuracy: 0.0065 - val_loss: 0.0127 - val_accuracy: 0.0035 - lr: 0.0010\n",
      "Epoch 11/15\n",
      "56/60 [===========================>..] - ETA: 0s - loss: 0.0053 - accuracy: 0.0021\n",
      "Epoch 11: saving model to model_weightsVTA.h5\n",
      "60/60 [==============================] - 0s 7ms/step - loss: 0.0051 - accuracy: 0.0020 - val_loss: 0.0064 - val_accuracy: 0.0017 - lr: 1.0000e-04\n",
      "Epoch 12/15\n",
      "56/60 [===========================>..] - ETA: 0s - loss: 0.0028 - accuracy: 0.0018\n",
      "Epoch 12: saving model to model_weightsVTA.h5\n",
      "60/60 [==============================] - 0s 7ms/step - loss: 0.0027 - accuracy: 0.0019 - val_loss: 0.0065 - val_accuracy: 0.0024 - lr: 1.0000e-04\n",
      "Epoch 13/15\n",
      "57/60 [===========================>..] - ETA: 0s - loss: 0.0024 - accuracy: 0.0026\n",
      "Epoch 13: saving model to model_weightsVTA.h5\n",
      "60/60 [==============================] - 0s 7ms/step - loss: 0.0025 - accuracy: 0.0028 - val_loss: 0.0063 - val_accuracy: 0.0024 - lr: 1.0000e-04\n",
      "Epoch 14/15\n",
      "58/60 [============================>.] - ETA: 0s - loss: 0.0023 - accuracy: 0.0031\n",
      "Epoch 14: saving model to model_weightsVTA.h5\n",
      "60/60 [==============================] - 1s 11ms/step - loss: 0.0024 - accuracy: 0.0032 - val_loss: 0.0061 - val_accuracy: 0.0028 - lr: 1.0000e-04\n",
      "Epoch 15/15\n",
      "58/60 [============================>.] - ETA: 0s - loss: 0.0024 - accuracy: 0.0033\n",
      "Epoch 15: saving model to model_weightsVTA.h5\n",
      "60/60 [==============================] - 1s 16ms/step - loss: 0.0023 - accuracy: 0.0034 - val_loss: 0.0059 - val_accuracy: 0.0031 - lr: 1.0000e-04\n"
     ]
    }
   ],
   "source": [
    "batch_size = 32\n",
    "\n",
    "# Train the model\n",
    "history = model.fit(\n",
    "    audio_train,\n",
    "    to_categorical(labels_train, num_classes=num_classes),\n",
    "    epochs=epochs,\n",
    "    batch_size=batch_size,\n",
    "    validation_data=(\n",
    "        audio_validation,\n",
    "        to_categorical(labels_validation, num_classes=num_classes),\n",
    "    ),\n",
    "    callbacks=[checkpoint, reduce_lr]\n",
    ")"
   ]
  },
  {
   "cell_type": "markdown",
   "id": "48f19d11-14b4-46c0-ba5c-9020966e10a4",
   "metadata": {},
   "source": [
    "## Model Evaluation"
   ]
  },
  {
   "cell_type": "code",
   "execution_count": 15,
   "id": "e6969722-74a1-482a-a969-f6273de06e29",
   "metadata": {},
   "outputs": [
    {
     "name": "stdout",
     "output_type": "stream",
     "text": [
      "15/15 [==============================] - 0s 3ms/step - loss: 0.0059 - accuracy: 0.0031\n",
      "Validation Loss: 0.005927962251007557\n",
      "Validation Accuracy: 0.0031250000465661287\n"
     ]
    }
   ],
   "source": [
    "# Evaluate the model\n",
    "evaluation = model.evaluate(\n",
    "    audio_validation,\n",
    "    to_categorical(labels_validation, num_classes=num_classes),\n",
    "    batch_size=batch_size\n",
    ")\n",
    "print(\"Validation Loss:\", evaluation[0])\n",
    "print(\"Validation Accuracy:\", evaluation[1])"
   ]
  },
  {
   "cell_type": "markdown",
   "id": "8bc08775-f34c-4dae-a0f2-b91ffb50d7b3",
   "metadata": {},
   "source": [
    "## Plotting Loss"
   ]
  },
  {
   "cell_type": "code",
   "execution_count": 16,
   "id": "2db0c6e8-4a52-49c3-942e-7e81d38aba22",
   "metadata": {},
   "outputs": [
    {
     "data": {
      "image/png": "[encoded data removed]",
      "text/plain": [
       "<Figure size 640x480 with 1 Axes>"
      ]
     },
     "metadata": {},
     "output_type": "display_data"
    }
   ],
   "source": [
    "plt.plot(history.history['loss'])\n",
    "plt.plot(history.history['val_loss'])\n",
    "plt.title('Model Loss')\n",
    "plt.legend(['Train', 'Validation'], loc='upper left')\n",
    "plt.show()"
   ]
  },
  {
   "cell_type": "code",
   "execution_count": 17,
   "id": "1179ebce-bc9d-4244-9551-5229f95f1082",
   "metadata": {},
   "outputs": [
    {
     "data": {
      "image/png": "[encoded data removed]",
      "text/plain": [
       "<Figure size 640x480 with 1 Axes>"
      ]
     },
     "metadata": {},
     "output_type": "display_data"
    }
   ],
   "source": [
    "plt.plot(history.history['accuracy'])\n",
    "plt.plot(history.history['val_accuracy'])\n",
    "plt.title('Model Accuracy')\n",
    "plt.legend(['Train', 'Validation'], loc='upper left')\n",
    "plt.show()"
   ]
  },
  {
   "cell_type": "markdown",
   "id": "023e6152-4af2-46f2-a413-b743f16dd7b6",
   "metadata": {},
   "source": [
    "## Saving the Model"
   ]
  },
  {
   "cell_type": "code",
   "execution_count": 18,
   "id": "2fa83595-ee12-4c73-bd3b-eae6d6f1f345",
   "metadata": {},
   "outputs": [],
   "source": [
    "model_json = model.to_json()\n",
    "with open(\"model_aVTN.json\", \"w\") as json_file:\n",
    "    json_file.write(model_json)"
   ]
  }
 ],
 "metadata": {
  "kernelspec": {
   "display_name": "Python 3 (ipykernel)",
   "language": "python",
   "name": "python3"
  },
  "language_info": {
   "codemirror_mode": {
    "name": "ipython",
    "version": 3
   },
   "file_extension": ".py",
   "mimetype": "text/x-python",
   "name": "python",
   "nbconvert_exporter": "python",
   "pygments_lexer": "ipython3",
   "version": "3.10.13"
  }
 },
 "nbformat": 4,
 "nbformat_minor": 5
}
